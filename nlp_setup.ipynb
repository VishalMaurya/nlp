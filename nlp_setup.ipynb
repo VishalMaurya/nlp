{
  "nbformat": 4,
  "nbformat_minor": 0,
  "metadata": {
    "colab": {
      "name": "valuelabs-nlp_setup.ipynb",
      "provenance": [],
      "include_colab_link": true
    },
    "kernelspec": {
      "name": "python3",
      "display_name": "Python 3"
    }
  },
  "cells": [
    {
      "cell_type": "markdown",
      "metadata": {
        "id": "view-in-github",
        "colab_type": "text"
      },
      "source": [
        "<a href=\"https://colab.research.google.com/github/VishalMaurya/nlp/blob/master/nlp_setup.ipynb\" target=\"_parent\"><img src=\"https://colab.research.google.com/assets/colab-badge.svg\" alt=\"Open In Colab\"/></a>"
      ]
    },
    {
      "cell_type": "code",
      "metadata": {
        "id": "rTCYHAGTxmm6",
        "colab_type": "code",
        "colab": {
          "base_uri": "https://localhost:8080/",
          "height": 119
        },
        "outputId": "2ba90eff-339a-4a01-a9b3-eee104968f74"
      },
      "source": [
        "! git clone https://github.com/vishal6361/nlp.git"
      ],
      "execution_count": 1,
      "outputs": [
        {
          "output_type": "stream",
          "text": [
            "Cloning into 'nlp'...\n",
            "remote: Enumerating objects: 6, done.\u001b[K\n",
            "remote: Counting objects: 100% (6/6), done.\u001b[K\n",
            "remote: Compressing objects: 100% (4/4), done.\u001b[K\n",
            "remote: Total 6 (delta 0), reused 0 (delta 0), pack-reused 0\u001b[K\n",
            "Unpacking objects: 100% (6/6), done.\n"
          ],
          "name": "stdout"
        }
      ]
    },
    {
      "cell_type": "code",
      "metadata": {
        "id": "zSTV1wMcyjQ0",
        "colab_type": "code",
        "colab": {
          "base_uri": "https://localhost:8080/",
          "height": 34
        },
        "outputId": "ee3c8228-4853-45b8-9895-e835ee84b259"
      },
      "source": [
        "! ls"
      ],
      "execution_count": 6,
      "outputs": [
        {
          "output_type": "stream",
          "text": [
            "DataSet.zip  README.md\n"
          ],
          "name": "stdout"
        }
      ]
    },
    {
      "cell_type": "code",
      "metadata": {
        "id": "cd7raRAuxwBx",
        "colab_type": "code",
        "colab": {
          "base_uri": "https://localhost:8080/",
          "height": 51
        },
        "outputId": "5f42258c-b8cb-43bb-b6e9-a6ecd0b40f49"
      },
      "source": [
        "from zipfile import ZipFile\n",
        "filename = 'DataSet.zip'\n",
        "\n",
        "with ZipFile(filename, 'r') as zip:\n",
        "  print('Extract zip file...')\n",
        "  zip.extractall()\n",
        "  print('Done...')"
      ],
      "execution_count": 7,
      "outputs": [
        {
          "output_type": "stream",
          "text": [
            "Extract zip file...\n",
            "Done...\n"
          ],
          "name": "stdout"
        }
      ]
    },
    {
      "cell_type": "code",
      "metadata": {
        "id": "zRKoB9b4yc2H",
        "colab_type": "code",
        "colab": {}
      },
      "source": [
        "# ! git add .\n",
        "# ! git config --global user.email 'gaurav.singh141@gmail.com'\n",
        "# ! git config --global user.name 'Vishal Maurya'\n",
        "# ! git commit -m 'Extracted data files...'\n",
        "# ! git config --global --list\n",
        "# ! git remote set-url origin git@github.com:vishal6361/nlp.git\n",
        "# ! git config push.default 'simple'\n",
        "# ! git  config --list\n",
        "# ! git push --all\n"
      ],
      "execution_count": 0,
      "outputs": []
    },
    {
      "cell_type": "code",
      "metadata": {
        "id": "wPoZTKMfIcVL",
        "colab_type": "code",
        "colab": {}
      },
      "source": [
        "# ! mkdir -p ~/.ssh\n",
        "# ! ssh-keyscan -t rsa github.com >> ~/.ssh/known_hosts\n",
        "# ! ssh-keygen -t rsa -C \"user.email\"\n",
        "# !  cat ~/.ssh/id_rsa.pub\n"
      ],
      "execution_count": 0,
      "outputs": []
    },
    {
      "cell_type": "code",
      "metadata": {
        "id": "cgfr3dOQLgL-",
        "colab_type": "code",
        "colab": {
          "base_uri": "https://localhost:8080/",
          "height": 51
        },
        "outputId": "d00589ca-a376-4409-de99-ad946414dd94"
      },
      "source": [
        "! git push --all"
      ],
      "execution_count": 87,
      "outputs": [
        {
          "output_type": "stream",
          "text": [
            "Warning: Permanently added the RSA host key for IP address '192.30.255.113' to the list of known hosts.\r\n",
            "Everything up-to-date\n"
          ],
          "name": "stdout"
        }
      ]
    },
    {
      "cell_type": "code",
      "metadata": {
        "id": "Ba4m-Vl9Lsuw",
        "colab_type": "code",
        "colab": {}
      },
      "source": [
        ""
      ],
      "execution_count": 0,
      "outputs": []
    }
  ]
}